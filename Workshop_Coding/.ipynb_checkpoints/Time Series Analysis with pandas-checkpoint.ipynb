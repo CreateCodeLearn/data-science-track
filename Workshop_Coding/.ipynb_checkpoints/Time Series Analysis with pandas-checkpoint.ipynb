{
 "cells": [
  {
   "cell_type": "markdown",
   "metadata": {},
   "source": [
    "# Time Series Analysis"
   ]
  },
  {
   "cell_type": "markdown",
   "metadata": {},
   "source": [
    "## Introduction\n",
    "\n",
    "In this section we explore a real world data set. We consider land-surface temperature anomalies provided by [__Berkeley Earth__](http://berkeleyearth.org/), an independent non-profit entity, which established an [open database](http://berkeleyearth.org/data/) with air temperature data of different spatial and temporal scales. \n",
    "\n",
    "### Objectives\n",
    "\n",
    "1. We explore the global temperature anomaly from 1750 to present.\n",
    "2. We construct an informative time series plot for the global temperature anomaly.   \n",
    "3. We write a function to plot temperature anomalies for any given country/region of the database.\n",
    "4. Save a nice locking time series plot to disk.\n"
   ]
  },
  {
   "cell_type": "markdown",
   "metadata": {},
   "source": [
    "***\n",
    "## Getting started\n",
    "\n",
    "We start by importing the packages/libraries that we will need for these tasks."
   ]
  },
  {
   "cell_type": "code",
   "execution_count": null,
   "metadata": {},
   "outputs": [],
   "source": [
    "import numpy as np \n",
    "import pandas as pd\n",
    "import matplotlib.pyplot as plt\n",
    "\n",
    "# this call causes the figures to be plotted below the code cells\n",
    "%matplotlib inline   "
   ]
  },
  {
   "cell_type": "markdown",
   "metadata": {},
   "source": [
    "***\n",
    "## Objective 1 - Explore the global temperature anomaly from 1750 to present\n",
    "    "
   ]
  },
  {
   "cell_type": "markdown",
   "metadata": {},
   "source": [
    "The land-surface average temperature data set produced by the Berkeley Averaging method is found online:\n",
    "\n",
    "http://berkeleyearth.lbl.gov/auto/Global/Complete_TAVG_complete.txt\n",
    "\n",
    "We already downloaded the data set for you. It is stored in the `./data` folder under the filename `Complete_TAVG_complete.txt`.\n",
    "\n",
    "\n",
    "\n",
    ">**Challenge 1:** Inspect the first 50 lines of the raw text file and read the metadata to get familiar with the nature of the data set and its generation. (Time: 3 Minutes)   \n",
    "\n",
    "*Hint: To run a shell command from within the `Jupyter Notebook` use the `!` magic.    \n",
    "In order to look at the first 50 lines of the text file you may use the `bash` command `head -50 PATH_TO_FILE/FILENAME`.*   \n"
   ]
  },
  {
   "cell_type": "code",
   "execution_count": null,
   "metadata": {},
   "outputs": [],
   "source": [
    "## your code here ..."
   ]
  },
  {
   "cell_type": "markdown",
   "metadata": {},
   "source": [
    "The dataset is a good example of datasets used in science: text format, good documentation, human readable but a bit harder to deal with programmatically (e.g. column names as comments instead of strict CSV).   "
   ]
  },
  {
   "cell_type": "markdown",
   "metadata": {},
   "source": [
    "***\n",
    "\n",
    "### Objective 1.1 - Load the data set with `pandas`\n",
    "\n",
    "The `pandas` library offers several data import operations. In this section we use the `pd.read_csv()` function. This function is very powerful and ships with many additional arguments to parse data, given in a variety of forms. \n",
    "\n",
    "The get familiar with the `pd.read_csv()` function, we look up the documentation to gain some intuition. \n",
    "\n",
    "> **Challenge 2:** Type `?pd.read_csv` into the cell below and run the cell."
   ]
  },
  {
   "cell_type": "code",
   "execution_count": null,
   "metadata": {},
   "outputs": [],
   "source": [
    "## your code here ..."
   ]
  },
  {
   "cell_type": "markdown",
   "metadata": {},
   "source": [
    "Don't be intimidated by the number of available arguments to the function call.    \n",
    "Note that most of the arguments come with a pre-defined default value, hence we focus on those few arguments, for which we actually need to provide the input.\n"
   ]
  },
  {
   "cell_type": "markdown",
   "metadata": {},
   "source": [
    ">**Challenge 3: **Load the file `Complete_TAVG_complete.txt` using the `pd.read_csv()` function. Build up the function call sequentially in order to fulfill our particular needs. (Time: 8 Minutes)\n",
    "* Start by providing the path to the file to the `pd.read_csv()` function.\n",
    "* Use the `comment` argument, to specify which lines should not be parsed.\n",
    "* Set `delim_whitespace=True` to specify that whitespace (e.g. ``' '`` or ``'    '``) will be used as the column separator.\n",
    "* Set `header=None` to indicate that the first line is not a header line. \n",
    "* Set the `usecols` argument to pick a subset of the columns.  For the purpose of this tutorial we are only interested in the columns `\"year\"`, `\"month\"`, `\"anomaly\"`, and `\"uncertainty\"`. *Hint: Our columns of interest are at column indices `0`, `1`, `2`, `3`* \n",
    "* Specify column names by using the `names` argument (`[\"year\", \"month\", \"anomaly\", \"uncertainty\"]`)."
   ]
  },
  {
   "cell_type": "code",
   "execution_count": null,
   "metadata": {},
   "outputs": [],
   "source": [
    "## your code here ..."
   ]
  },
  {
   "cell_type": "markdown",
   "metadata": {},
   "source": [
    "* For the sake of reproducibility we refactor our code and write a function called `read_temp_data`, with only one input argument, the `FILEPATH`.  _Note that we have already written the function for you. The code is stored in the folder_ `./src/_solutions/` _with the filename_ `time_series_analysis_f01.py`. We use the magic function `%load` to load the Python file.\n",
    "\n",
    "      %load ./src/_solutions/time_series_analysis_f01.py\n",
    "\n",
    "_Uncomment the code cell below and execute the code cell once to import the file and once more to actually run the code._ "
   ]
  },
  {
   "cell_type": "code",
   "execution_count": null,
   "metadata": {},
   "outputs": [],
   "source": [
    "# %load ./src/_solutions/time_series_analysis_f01.py"
   ]
  },
  {
   "cell_type": "markdown",
   "metadata": {},
   "source": [
    "* Apply the `read_temp_data()` function to create a `DataFrame` object containing the global land surface temperature anomaly provided by the open database of Berkeley Earth and store it into a variable called `data_raw`."
   ]
  },
  {
   "cell_type": "code",
   "execution_count": null,
   "metadata": {},
   "outputs": [],
   "source": [
    "FILEPATH = './data/Complete_TAVG_complete.txt'\n",
    "data_raw = read_temp_data(FILEPATH)"
   ]
  },
  {
   "cell_type": "code",
   "execution_count": null,
   "metadata": {},
   "outputs": [],
   "source": [
    "## use the sample method to look at 10 rows at random"
   ]
  },
  {
   "cell_type": "markdown",
   "metadata": {},
   "source": [
    "***\n",
    "### Objective 1.2 - Exploratory data analysis\n",
    "\n",
    "In this section we work with time series data; hence, we want to make use of the full functionality for time series analysis provided by the `pandas` library. Consequently, we provide `pandas` an appropriate time-based index."
   ]
  },
  {
   "cell_type": "code",
   "execution_count": null,
   "metadata": {},
   "outputs": [],
   "source": [
    "## make a copy of the DataFrame object\n",
    "data_ts = data_raw.copy()"
   ]
  },
  {
   "cell_type": "code",
   "execution_count": null,
   "metadata": {},
   "outputs": [],
   "source": [
    "# index of the DataFrame object"
   ]
  },
  {
   "cell_type": "code",
   "execution_count": null,
   "metadata": {},
   "outputs": [],
   "source": [
    "# data types in the DataFrame object"
   ]
  },
  {
   "cell_type": "markdown",
   "metadata": {},
   "source": [
    ">**Challenge 4:** Generate a time based index by combining the columns `year` and `month`. (Time: 5 Minutes)\n",
    "* Apply the `astype()` method on a `pd.Series` object to convert an `int` into a `string`.\n",
    "* Concatenate (`+`) the columns `year` and `month` (both being `string` objects) and apply `pd.to_datetime()` to generate a `datetime` object.\n",
    "* Chain the `dt` attribute and the `to.period('M')` method together and apply them on the `datetime` object to generate a `PeriodIndex`\n",
    "* Assign the `PeriodIndex` back to the `DataFrame` object `data_ts`."
   ]
  },
  {
   "cell_type": "code",
   "execution_count": null,
   "metadata": {},
   "outputs": [],
   "source": [
    "## your code here ..."
   ]
  },
  {
   "cell_type": "markdown",
   "metadata": {},
   "source": [
    "* For the sake of reproducibility we refactor our code and write a function called `monthly_index`, with only one input argument, a `DataFrame` object. _Note that we have already written the function for you._ \n",
    "\n",
    "      %load ./src/_solutions/time_series_analysis_f02.py\n",
    "      \n",
    "_Uncomment the code cell below and execute the cell once to import the file and once more to actually run the code._ \n"
   ]
  },
  {
   "cell_type": "code",
   "execution_count": null,
   "metadata": {},
   "outputs": [],
   "source": [
    "# %load ./src/_solutions/time_series_analysis_f02.py"
   ]
  },
  {
   "cell_type": "markdown",
   "metadata": {},
   "source": [
    "* Apply the `monthly_index()` function to create a `DataFrame` with a monthly `PeriodIndex` and store it into a variable called `data_monthly`."
   ]
  },
  {
   "cell_type": "code",
   "execution_count": null,
   "metadata": {},
   "outputs": [],
   "source": [
    "data_monthly = monthly_index(data_raw)\n",
    "data_monthly.head()"
   ]
  },
  {
   "cell_type": "markdown",
   "metadata": {},
   "source": [
    "> **Challenge 5**: Print the descriptive statistics of the `anomaly` column. (Time: 2 Minutes)\n",
    "* count\n",
    "* mean\n",
    "* standard deviation\n",
    "* min\n",
    "* 25, 50, and 75%-quantile\n",
    "* max  \n",
    "\n",
    "_Hint: Recall the `describe()` method_\n",
    "\n"
   ]
  },
  {
   "cell_type": "code",
   "execution_count": null,
   "metadata": {},
   "outputs": [],
   "source": [
    "##  your code here ..."
   ]
  },
  {
   "cell_type": "markdown",
   "metadata": {},
   "source": [
    "> **Challenge 6**: Plotting of the distribution of the `anomaly` column. (Time: 2 Minutes)\n",
    "* Plot the distribution of `anomaly` using the `plot.hist()` method (Feel free to play around with the `bins` argument).\n",
    "* Plot the distribution of `anomaly` for the periods 1850-1900 and 1950-2000 in one plot (*Hint: Recall the `loc` method*)"
   ]
  },
  {
   "cell_type": "code",
   "execution_count": null,
   "metadata": {},
   "outputs": [],
   "source": [
    "## your code here ..."
   ]
  },
  {
   "cell_type": "markdown",
   "metadata": {},
   "source": [
    "***\n",
    "## Objective 2 -  Construct an informative time series plot for the global temperature anomaly"
   ]
  },
  {
   "cell_type": "markdown",
   "metadata": {},
   "source": [
    "The `pandas` library makes plotting very easy. Calling the `plot()` method on a `pd.Series` or `pd.DataFrame` object will create a plot. Note that `pandas` relies on the extremely powerful `matplotlib` library. Refer to the `matplotlib` [gallery](https://matplotlib.org/gallery/index.html) of the [online documentation](https://matplotlib.org/) to get an idea what `matplotlib` can do for you.\n",
    "\n"
   ]
  },
  {
   "cell_type": "markdown",
   "metadata": {},
   "source": [
    "***\n",
    "### Objective 2.1 -  Construct a simple time series plot of the global temperature anomaly"
   ]
  },
  {
   "cell_type": "markdown",
   "metadata": {},
   "source": [
    "> **Challenge 7**: Plot a time series plot of the `anomaly` column. (Time: 3 Minutes)\n",
    "\n",
    "_Hint: Use the `plot()` method_"
   ]
  },
  {
   "cell_type": "code",
   "execution_count": null,
   "metadata": {},
   "outputs": [],
   "source": [
    "## your code here ... "
   ]
  },
  {
   "cell_type": "markdown",
   "metadata": {},
   "source": [
    "***\n",
    "### Objective 2.2 -  Improve the simple time series plot by computing a 10-year running mean for the `anomaly` and the `uncertainty` columns."
   ]
  },
  {
   "cell_type": "markdown",
   "metadata": {},
   "source": [
    "> **Challenge 8**: Compute a 10-year running mean for the `anomaly` and the `uncertainty` columns and plot them.\n",
    "We compute a running mean by combining the `rolling()`  and the `mean()` method.   (Time: 10 minutes)\n",
    "* The `rolling()` method takes several arguments. We need to find an appropriate value for the `window` argument. Further we set `center=True`. \n",
    "* Once we have called the `rolling()` method we chain it with the `mean()` method to compute the 10-year running mean. _Hint: Use the `plot()` method to verify the computation._\n",
    "* Repeat the procedure for the `anomaly` and the `uncertainty` columns and add the two columns to the dataframe, denoted as `10-year-anomaly` and `10-year-uncertainty`. \n",
    "* Plot the `anomaly`, the `10-year-anomaly` as well as the `\"10-year-uncertainty\"` within one single plot. _Hint: Note that the `uncertainty` corresponds to the absolute value of deviation. Compute `10-year-anomaly` $+$ `10-year-uncertainty` and `10-year-anomaly` $-$ `10-year-uncertainty` to get the upper and lower bounds of uncertainty._ "
   ]
  },
  {
   "cell_type": "code",
   "execution_count": null,
   "metadata": {},
   "outputs": [],
   "source": [
    "## your code here ..."
   ]
  },
  {
   "cell_type": "markdown",
   "metadata": {},
   "source": [
    "* For the sake of reproducibility we refactor our code and write a function called `plot_anomalies`, with two input argument, a `DataFrame` object and a `string`, corresponding to the title of the plot.\n",
    "\n",
    "Note that we have already written the function for you. Moreover, we added some boilerplate code the control the figure aesthetics such as `color`, `linewidth`, `linestyle`, fillings (`fill_between`) and opacity (`alpha`); further we added a `title` and axis labels. \n",
    "\n",
    "> **Challenge 9:** Read the code line for line and try to figure out what each line of code is doing. (Time: 5 minutes)   \n",
    "*The code is stored in the folder `./src/_solutions/` with the filename `time_series_analysis_f03.py`. We use the magic function `%load` to import the Python file.\n",
    "\n",
    "    %load ./src/_solutions/time_series_analysis_f03.py\n",
    "\n",
    "*Uncomment the code cell below.*"
   ]
  },
  {
   "cell_type": "code",
   "execution_count": null,
   "metadata": {},
   "outputs": [],
   "source": [
    "# %load ./src/_solutions/time_series_analysis_f03.py"
   ]
  },
  {
   "cell_type": "markdown",
   "metadata": {},
   "source": [
    "* Apply the `plot_anomalies()` function to create a figure."
   ]
  },
  {
   "cell_type": "code",
   "execution_count": null,
   "metadata": {},
   "outputs": [],
   "source": [
    "plot_anomalies(data_monthly, title=\"Global temperature anomaly relative to the period 1951-1980\");"
   ]
  },
  {
   "cell_type": "markdown",
   "metadata": {},
   "source": [
    "***\n",
    "## Objective 3 - Write a function to plot temperature anomalies for any given country/region of the database"
   ]
  },
  {
   "cell_type": "markdown",
   "metadata": {},
   "source": [
    "In the previous sections we sequentially built up code segments that finally produce an informative time series plot. In this section we refactor our code to become even more generic. We write a function that produces such a time series plot for any given region or country name.\n",
    "\n",
    "Again we build up our code base sequentially; however this time, we make use of the functions `read_temp_data()`, `monthly_index()` and `plot_anomalies()`. Hence, reducing the lines of code to write and in addition, our code becomes more readable."
   ]
  },
  {
   "cell_type": "markdown",
   "metadata": {},
   "source": [
    "We follow the procedure outlined below\n",
    "1. Locate the data files (find the correct url) of interest in the open database of [Earth Berkeley](http://berkeleyearth.org/).\n",
    "* Load temperature data from the internet and preprocess it using our `read_temp_data()` function.\n",
    "* Assign a time based index to the data set using our `monthly_index()` function.\n",
    "* Plot the data of interest using our `plot_anomalies()` function."
   ]
  },
  {
   "cell_type": "markdown",
   "metadata": {},
   "source": [
    "***\n",
    "### Objective 3.1 - Locate the data files (find the correct url) of interest in the open database of [Earth Berkeley](http://berkeleyearth.org/)"
   ]
  },
  {
   "cell_type": "markdown",
   "metadata": {},
   "source": [
    "Follow the link below and you see that the temperature data set for each particular country/region can be accessed via an unique url:\n",
    "\n",
    "http://berkeleyearth.lbl.gov/auto/Regional/TAVG/Text/\n",
    "\n",
    "Note that Jupyter notebooks allow us to embed an `Iframe` into a notebook cell (see below)\n"
   ]
  },
  {
   "cell_type": "code",
   "execution_count": null,
   "metadata": {},
   "outputs": [],
   "source": [
    "from IPython.display import IFrame\n",
    "IFrame(\"http://berkeleyearth.lbl.gov/auto/Regional/TAVG/Text/\", width=\"100%\", height=400)"
   ]
  },
  {
   "cell_type": "markdown",
   "metadata": {},
   "source": [
    "By investigating the structure of the database we realize that each particular data set can be assessed via an unique url, which may be decomposed into three parts:\n",
    "\n",
    "Part 1 - the base url: `http://berkeleyearth.lbl.gov/auto/Regional/TAVG/Text/...`   \n",
    "Part 2 -  the country/region name: `...afghanistan...`, `...africa...` or `...angola...`, among others.   \n",
    "Part 3 -  the url suffix: `...-TAVG-Trend.txt`   \n",
    "\n",
    "For example, the url for the temperature data set of Germany is \n",
    "\n",
    "`BASE_URL` + `COUNTRY` + `SUFFIX` = http://berkeleyearth.lbl.gov/auto/Regional/TAVG/Text/germany-TAVG-Trend.txt"
   ]
  },
  {
   "cell_type": "markdown",
   "metadata": {},
   "source": [
    "> **Challenge 10**: Wrap this idea into a python function called `data_url()`, which takes one input argument, the name of the country/region. (Time: 5 minutes)    \n",
    "_Hint: Concatenate `string` objects using the `+` sign_"
   ]
  },
  {
   "cell_type": "code",
   "execution_count": null,
   "metadata": {},
   "outputs": [],
   "source": [
    "## your code here ..."
   ]
  },
  {
   "cell_type": "markdown",
   "metadata": {},
   "source": [
    "* What is the url for the temperature data set for Germany?    \n",
    "Use the function `data_url()` to build the url for accessing temperature data for Germany. "
   ]
  },
  {
   "cell_type": "code",
   "execution_count": null,
   "metadata": {},
   "outputs": [],
   "source": [
    "data_url(\"germany\")"
   ]
  },
  {
   "cell_type": "markdown",
   "metadata": {},
   "source": [
    "***\n",
    "### Objective 3.1, 3.2 and 3.3 - Load temperature data, assign a time based index and plot the data of interest"
   ]
  },
  {
   "cell_type": "markdown",
   "metadata": {},
   "source": [
    "Owing to the fact that we consequently refactored our code into python functions, these tasks become fairly easy. We just have to call one function after the other.    \n",
    "\n",
    "> **Challenge 11**: Apply `data_url()`, followed by `read_temp_data()`, `monthly_index()` and `plot_anomalies()` to plot the temperature anomaly for Germany from 1750 to present. (Time: 5 minutes)\n",
    "\n",
    "*Note that the `pd.read_csv()` function, built into our `read_temp_data()` function, also accepts an url as input argument and that the  `plot_anomalies()` function awaits two arguments, a `DataFrame` object and a `string` object as `title`.*"
   ]
  },
  {
   "cell_type": "code",
   "execution_count": null,
   "metadata": {},
   "outputs": [],
   "source": [
    "## your code here ..."
   ]
  },
  {
   "cell_type": "markdown",
   "metadata": {},
   "source": [
    "* Once again, for the sake of reproducibility we refactor our code and write a function called `plot_country_anomalies`, with one input argument, a `string` object referring to a particular country/region of interest. Note that we have already written the function for you (`time_series_analysis_f04.py`). \n",
    "\n",
    "      %load ./src/_solutions/time_series_analysis_f04.py\n",
    "    \n",
    "_Uncomment the code cell below._"
   ]
  },
  {
   "cell_type": "code",
   "execution_count": null,
   "metadata": {},
   "outputs": [],
   "source": [
    "# %load ./src/_solutions/time_series_analysis_f04.py"
   ]
  },
  {
   "cell_type": "markdown",
   "metadata": {},
   "source": [
    "> **Challenge 12**: Use the function `plot_country_anomalies()` to plot the temperature anomalies for \n",
    "* `germany`\n",
    "* `australia` and\n",
    "* `china`   \n",
    "(Time: 6 Minutes)\n"
   ]
  },
  {
   "cell_type": "code",
   "execution_count": null,
   "metadata": {},
   "outputs": [],
   "source": [
    "## your code here ..."
   ]
  },
  {
   "cell_type": "markdown",
   "metadata": {},
   "source": [
    "***\n",
    "\n",
    "## Objective 4 - Save a time series plot to disk"
   ]
  },
  {
   "cell_type": "markdown",
   "metadata": {},
   "source": [
    "Finally, we are done and want to save one of our plots to disk. Therefore we call the `plt.savefig()` function.\n",
    "\n",
    "> **Challenge 13**: Create a plot of a country of your choice. Use the function `plt.savefig()` to save the plot to disk. Save the plot as a `.png` file with a resolution of 300 dpi in the folder `./figures/`. (Time: 5 Minutes)\n",
    "\n"
   ]
  },
  {
   "cell_type": "code",
   "execution_count": null,
   "metadata": {},
   "outputs": [],
   "source": [
    "# your code here ..."
   ]
  },
  {
   "cell_type": "markdown",
   "metadata": {},
   "source": [
    "***"
   ]
  }
 ],
 "metadata": {
  "anaconda-cloud": {},
  "hide_input": false,
  "kernelspec": {
   "display_name": "Python 3",
   "language": "python",
   "name": "python3"
  },
  "language_info": {
   "codemirror_mode": {
    "name": "ipython",
    "version": 3
   },
   "file_extension": ".py",
   "mimetype": "text/x-python",
   "name": "python",
   "nbconvert_exporter": "python",
   "pygments_lexer": "ipython3",
   "version": "3.6.5"
  }
 },
 "nbformat": 4,
 "nbformat_minor": 1
}
