{
 "cells": [
  {
   "cell_type": "markdown",
   "metadata": {},
   "source": [
    "# Time Series Analysis"
   ]
  },
  {
   "cell_type": "markdown",
   "metadata": {},
   "source": [
    "## Introduction\n",
    "\n",
    "In this section we explore a real world data set. We consider land-surface temperature anomalies provided by [__Berkeley Earth__](http://berkeleyearth.org/), an independent non-profit entity, which established an [open database](http://berkeleyearth.org/data/) with air temperature data of different spatial and temporal scales. \n",
    "\n",
    "### Objectives\n",
    "\n",
    "1. We explore the global temperature anomaly from 1750 to present.\n",
    "2. We construct an informative time series plot for the global temperature anomaly.   \n",
    "3. We write a function to plot temperature anomalies for any given country/region of the database.\n",
    "4. Save a nice locking time series plot to disk.\n"
   ]
  },
  {
   "cell_type": "markdown",
   "metadata": {},
   "source": [
    "***\n",
    "## Getting started\n",
    "\n",
    "We start by importing the packages/libraries that we will need for these tasks."
   ]
  },
  {
   "cell_type": "code",
   "execution_count": 2,
   "metadata": {},
   "outputs": [],
   "source": [
    "import numpy as np \n",
    "import pandas as pd\n",
    "import matplotlib.pyplot as plt\n",
    "\n",
    "# this call causes the figures to be plotted below the code cells\n",
    "%matplotlib inline   "
   ]
  },
  {
   "cell_type": "markdown",
   "metadata": {},
   "source": [
    "***\n",
    "## Objective 1 - Explore the global temperature anomaly from 1750 to present\n",
    "    "
   ]
  },
  {
   "cell_type": "markdown",
   "metadata": {},
   "source": [
    "The land-surface average temperature data set produced by the Berkeley Averaging method is found online:\n",
    "\n",
    "http://berkeleyearth.lbl.gov/auto/Global/Complete_TAVG_complete.txt\n",
    "\n",
    "We already downloaded the data set for you. It is stored in the `./data` folder under the filename `Complete_TAVG_complete.txt`.\n",
    "\n",
    "\n",
    "\n",
    ">**Challenge 1:** Inspect the first 50 lines of the raw text file and read the metadata to get familiar with the nature of the data set and its generation. (Time: 3 Minutes)   \n",
    "\n",
    "*Hint: To run a shell command from within the `Jupyter Notebook` use the `!` magic.    \n",
    "In order to look at the first 50 lines of the text file you may use the `bash` command `head -50 PATH_TO_FILE/FILENAME`.*   \n"
   ]
  },
  {
   "cell_type": "code",
   "execution_count": 8,
   "metadata": {},
   "outputs": [
    {
     "name": "stdout",
     "output_type": "stream",
     "text": [
      "% This file contains a detailed summary of the land-surface average \n",
      "% results produced by the Berkeley Averaging method.  Temperatures are \n",
      "% in Celsius and reported as anomalies relative to the Jan 1951-Dec 1980 \n",
      "% average.  Uncertainties represent the 95% confidence interval for \n",
      "% statistical and spatial undersampling effects.\n",
      "% \n",
      "% The current dataset presented here is described as: \n",
      "% \n",
      "%   Estimated Global Land-Surface TAVG based on the Complete Berkeley Dataset\n",
      "% \n",
      "% \n",
      "% This analysis was run on 09-Feb-2017 03:01:54\n",
      "% \n",
      "% Results are based on 43595 time series \n",
      "%   with 16876139 data points\n",
      "% \n",
      "% Estimated Jan 1951-Dec 1980 absolute temperature (C): 8.66 +/- 0.07\n",
      "% \n",
      "% As Earth's land is not distributed symmetrically about the equator, there\n",
      "% exists a mean seasonality to the global land-average.  \n",
      "% \n",
      "% Estimated Jan 1951-Dec 1980 monthly absolute temperature:\n",
      "%      Jan   Feb   Mar   Apr   May   Jun   Jul   Aug   Sep   Oct   Nov   Dec\n",
      "%      2.60  3.21  5.33  8.36 11.37 13.52 14.41 13.92 12.11  9.26  6.12  3.66\n",
      "% +/-  0.10  0.09  0.08  0.08  0.08  0.09  0.09  0.09  0.08  0.08  0.08  0.10\n",
      "% \n",
      "% For each month, we report the estimated land-surface average for that \n",
      "% month and its uncertainty.  We also report the corresponding values for \n",
      "% year, five-year, ten-year, and twenty-year moving averages CENTERED about \n",
      "% that month (rounding down if the center is in between months).  For example, \n",
      "% the annual average from January to December 1950 is reported at June 1950. \n",
      "% \n",
      "%                  Monthly          Annual          Five-year        Ten-year        Twenty-year\n",
      "% Year, Month,  Anomaly, Unc.,   Anomaly, Unc.,   Anomaly, Unc.,   Anomaly, Unc.,   Anomaly, Unc.\n",
      " \n",
      "  1750     1     0.018  3.352       NaN    NaN       NaN    NaN       NaN    NaN       NaN    NaN\n",
      "  1750     2     0.087  3.144       NaN    NaN       NaN    NaN       NaN    NaN       NaN    NaN\n",
      "  1750     3     0.232  2.321       NaN    NaN       NaN    NaN       NaN    NaN       NaN    NaN\n",
      "  1750     4    -0.217  2.106       NaN    NaN       NaN    NaN       NaN    NaN       NaN    NaN\n",
      "  1750     5    -0.133  2.257       NaN    NaN       NaN    NaN       NaN    NaN       NaN    NaN\n",
      "  1750     6    -0.497  1.869       NaN    NaN       NaN    NaN       NaN    NaN       NaN    NaN\n",
      "  1750     7     1.563  1.976       NaN    NaN       NaN    NaN       NaN    NaN       NaN    NaN\n",
      "  1750     8     0.431  2.459       NaN    NaN       NaN    NaN       NaN    NaN       NaN    NaN\n",
      "  1750     9    -1.246  2.726       NaN    NaN       NaN    NaN       NaN    NaN       NaN    NaN\n",
      "  1750    10    -3.053  2.046       NaN    NaN       NaN    NaN       NaN    NaN       NaN    NaN\n",
      "  1750    11       NaN    NaN       NaN    NaN       NaN    NaN       NaN    NaN       NaN    NaN\n",
      "  1750    12    -1.648  3.247       NaN    NaN       NaN    NaN       NaN    NaN       NaN    NaN\n",
      "  1751     1    -0.494  3.339       NaN    NaN       NaN    NaN       NaN    NaN       NaN    NaN\n",
      "  1751     2    -2.379  3.168       NaN    NaN       NaN    NaN       NaN    NaN       NaN    NaN\n",
      "  1751     3     0.799  2.264       NaN    NaN       NaN    NaN       NaN    NaN       NaN    NaN\n"
     ]
    }
   ],
   "source": [
    "## your code here ...\n",
    "! head -50 ./data/Complete_TAVG_complete.txt"
   ]
  },
  {
   "cell_type": "markdown",
   "metadata": {},
   "source": [
    "The dataset is a good example of datasets used in science: text format, good documentation, human readable but a bit harder to deal with programmatically (e.g. column names as comments instead of strict CSV).   "
   ]
  },
  {
   "cell_type": "markdown",
   "metadata": {},
   "source": [
    "***\n",
    "\n",
    "### Objective 1.1 - Load the data set with `pandas`\n",
    "\n",
    "The `pandas` library offers several data import operations. In this section we use the `pd.read_csv()` function. This function is very powerful and ships with many additional arguments to parse data, given in a variety of forms. \n",
    "\n",
    "The get familiar with the `pd.read_csv()` function, we look up the documentation to gain some intuition. \n",
    "\n",
    "> **Challenge 2:** Type `?pd.read_csv` into the cell below and run the cell."
   ]
  },
  {
   "cell_type": "code",
   "execution_count": null,
   "metadata": {},
   "outputs": [],
   "source": [
    "## your code here ..."
   ]
  },
  {
   "cell_type": "markdown",
   "metadata": {},
   "source": [
    "Don't be intimidated by the number of available arguments to the function call.    \n",
    "Note that most of the arguments come with a pre-defined default value, hence we focus on those few arguments, for which we actually need to provide the input.\n"
   ]
  },
  {
   "cell_type": "markdown",
   "metadata": {},
   "source": [
    ">**Challenge 3: **Load the file `Complete_TAVG_complete.txt` using the `pd.read_csv()` function. Build up the function call sequentially in order to fulfill our particular needs. (Time: 8 Minutes)\n",
    "* Start by providing the path to the file to the `pd.read_csv()` function.\n",
    "* Use the `comment` argument, to specify which lines should not be parsed.\n",
    "* Set `delim_whitespace=True` to specify that whitespace (e.g. ``' '`` or ``'    '``) will be used as the column separator.\n",
    "* Set `header=None` to indicate that the first line is not a header line. \n",
    "* Set the `usecols` argument to pick a subset of the columns.  For the purpose of this tutorial we are only interested in the columns `\"year\"`, `\"month\"`, `\"anomaly\"`, and `\"uncertainty\"`. *Hint: Our columns of interest are at column indices `0`, `1`, `2`, `3`* \n",
    "* Specify column names by using the `names` argument (`[\"year\", \"month\", \"anomaly\", \"uncertainty\"]`)."
   ]
  },
  {
   "cell_type": "code",
   "execution_count": null,
   "metadata": {},
   "outputs": [],
   "source": [
    "## your code here ..."
   ]
  },
  {
   "cell_type": "markdown",
   "metadata": {},
   "source": [
    "* For the sake of reproducibility we refactor our code and write a function called `read_temp_data`, with only one input argument, the `FILEPATH`.  _Note that we have already written the function for you. The code is stored in the folder_ `./src/_solutions/` _with the filename_ `time_series_analysis_f01.py`. We use the magic function `%load` to load the Python file.\n",
    "\n",
    "      %load ./src/_solutions/time_series_analysis_f01.py\n",
    "\n",
    "_Uncomment the code cell below and execute the code cell once to import the file and once more to actually run the code._ "
   ]
  },
  {
   "cell_type": "code",
   "execution_count": 10,
   "metadata": {},
   "outputs": [],
   "source": [
    "%magic"
   ]
  },
  {
   "cell_type": "code",
   "execution_count": 4,
   "metadata": {},
   "outputs": [],
   "source": [
    "# %load ./src/_solutions/time_series_analysis_f01.py\n",
    "def read_temp_data(FILEPATH):\n",
    "    '''\n",
    "    Read temperature data provided by the open database of Berkeley Earth\n",
    "    '''\n",
    "    COLUMN_NAMES = [\"year\", \"month\", \"anomaly\", \"uncertainty\"]\n",
    "    df = pd.read_csv(FILEPATH,\n",
    "                     comment=\"%\", \n",
    "                     delim_whitespace=True, \n",
    "                     header=None, \n",
    "                     usecols=[0, 1, 2, 3], \n",
    "                     names=COLUMN_NAMES)\n",
    "    return(df)"
   ]
  },
  {
   "cell_type": "markdown",
   "metadata": {},
   "source": [
    "* Apply the `read_temp_data()` function to create a `DataFrame` object containing the global land surface temperature anomaly provided by the open database of Berkeley Earth and store it into a variable called `data_raw`."
   ]
  },
  {
   "cell_type": "code",
   "execution_count": null,
   "metadata": {},
   "outputs": [],
   "source": []
  },
  {
   "cell_type": "code",
   "execution_count": 6,
   "metadata": {},
   "outputs": [
    {
     "data": {
      "text/html": [
       "<div>\n",
       "<style scoped>\n",
       "    .dataframe tbody tr th:only-of-type {\n",
       "        vertical-align: middle;\n",
       "    }\n",
       "\n",
       "    .dataframe tbody tr th {\n",
       "        vertical-align: top;\n",
       "    }\n",
       "\n",
       "    .dataframe thead th {\n",
       "        text-align: right;\n",
       "    }\n",
       "</style>\n",
       "<table border=\"1\" class=\"dataframe\">\n",
       "  <thead>\n",
       "    <tr style=\"text-align: right;\">\n",
       "      <th></th>\n",
       "      <th>year</th>\n",
       "      <th>month</th>\n",
       "      <th>anomaly</th>\n",
       "      <th>uncertainty</th>\n",
       "    </tr>\n",
       "  </thead>\n",
       "  <tbody>\n",
       "    <tr>\n",
       "      <th>0</th>\n",
       "      <td>1750</td>\n",
       "      <td>1</td>\n",
       "      <td>0.018</td>\n",
       "      <td>3.352</td>\n",
       "    </tr>\n",
       "    <tr>\n",
       "      <th>1</th>\n",
       "      <td>1750</td>\n",
       "      <td>2</td>\n",
       "      <td>0.087</td>\n",
       "      <td>3.144</td>\n",
       "    </tr>\n",
       "    <tr>\n",
       "      <th>2</th>\n",
       "      <td>1750</td>\n",
       "      <td>3</td>\n",
       "      <td>0.232</td>\n",
       "      <td>2.321</td>\n",
       "    </tr>\n",
       "    <tr>\n",
       "      <th>3</th>\n",
       "      <td>1750</td>\n",
       "      <td>4</td>\n",
       "      <td>-0.217</td>\n",
       "      <td>2.106</td>\n",
       "    </tr>\n",
       "    <tr>\n",
       "      <th>4</th>\n",
       "      <td>1750</td>\n",
       "      <td>5</td>\n",
       "      <td>-0.133</td>\n",
       "      <td>2.257</td>\n",
       "    </tr>\n",
       "    <tr>\n",
       "      <th>5</th>\n",
       "      <td>1750</td>\n",
       "      <td>6</td>\n",
       "      <td>-0.497</td>\n",
       "      <td>1.869</td>\n",
       "    </tr>\n",
       "    <tr>\n",
       "      <th>6</th>\n",
       "      <td>1750</td>\n",
       "      <td>7</td>\n",
       "      <td>1.563</td>\n",
       "      <td>1.976</td>\n",
       "    </tr>\n",
       "    <tr>\n",
       "      <th>7</th>\n",
       "      <td>1750</td>\n",
       "      <td>8</td>\n",
       "      <td>0.431</td>\n",
       "      <td>2.459</td>\n",
       "    </tr>\n",
       "    <tr>\n",
       "      <th>8</th>\n",
       "      <td>1750</td>\n",
       "      <td>9</td>\n",
       "      <td>-1.246</td>\n",
       "      <td>2.726</td>\n",
       "    </tr>\n",
       "    <tr>\n",
       "      <th>9</th>\n",
       "      <td>1750</td>\n",
       "      <td>10</td>\n",
       "      <td>-3.053</td>\n",
       "      <td>2.046</td>\n",
       "    </tr>\n",
       "    <tr>\n",
       "      <th>10</th>\n",
       "      <td>1750</td>\n",
       "      <td>11</td>\n",
       "      <td>NaN</td>\n",
       "      <td>NaN</td>\n",
       "    </tr>\n",
       "    <tr>\n",
       "      <th>11</th>\n",
       "      <td>1750</td>\n",
       "      <td>12</td>\n",
       "      <td>-1.648</td>\n",
       "      <td>3.247</td>\n",
       "    </tr>\n",
       "    <tr>\n",
       "      <th>12</th>\n",
       "      <td>1751</td>\n",
       "      <td>1</td>\n",
       "      <td>-0.494</td>\n",
       "      <td>3.339</td>\n",
       "    </tr>\n",
       "    <tr>\n",
       "      <th>13</th>\n",
       "      <td>1751</td>\n",
       "      <td>2</td>\n",
       "      <td>-2.379</td>\n",
       "      <td>3.168</td>\n",
       "    </tr>\n",
       "    <tr>\n",
       "      <th>14</th>\n",
       "      <td>1751</td>\n",
       "      <td>3</td>\n",
       "      <td>0.799</td>\n",
       "      <td>2.264</td>\n",
       "    </tr>\n",
       "    <tr>\n",
       "      <th>15</th>\n",
       "      <td>1751</td>\n",
       "      <td>4</td>\n",
       "      <td>-0.484</td>\n",
       "      <td>1.895</td>\n",
       "    </tr>\n",
       "    <tr>\n",
       "      <th>16</th>\n",
       "      <td>1751</td>\n",
       "      <td>5</td>\n",
       "      <td>NaN</td>\n",
       "      <td>NaN</td>\n",
       "    </tr>\n",
       "    <tr>\n",
       "      <th>17</th>\n",
       "      <td>1751</td>\n",
       "      <td>6</td>\n",
       "      <td>0.423</td>\n",
       "      <td>1.827</td>\n",
       "    </tr>\n",
       "    <tr>\n",
       "      <th>18</th>\n",
       "      <td>1751</td>\n",
       "      <td>7</td>\n",
       "      <td>NaN</td>\n",
       "      <td>NaN</td>\n",
       "    </tr>\n",
       "    <tr>\n",
       "      <th>19</th>\n",
       "      <td>1751</td>\n",
       "      <td>8</td>\n",
       "      <td>0.106</td>\n",
       "      <td>2.520</td>\n",
       "    </tr>\n",
       "    <tr>\n",
       "      <th>20</th>\n",
       "      <td>1751</td>\n",
       "      <td>9</td>\n",
       "      <td>-1.945</td>\n",
       "      <td>2.684</td>\n",
       "    </tr>\n",
       "    <tr>\n",
       "      <th>21</th>\n",
       "      <td>1751</td>\n",
       "      <td>10</td>\n",
       "      <td>NaN</td>\n",
       "      <td>NaN</td>\n",
       "    </tr>\n",
       "    <tr>\n",
       "      <th>22</th>\n",
       "      <td>1751</td>\n",
       "      <td>11</td>\n",
       "      <td>NaN</td>\n",
       "      <td>NaN</td>\n",
       "    </tr>\n",
       "    <tr>\n",
       "      <th>23</th>\n",
       "      <td>1751</td>\n",
       "      <td>12</td>\n",
       "      <td>NaN</td>\n",
       "      <td>NaN</td>\n",
       "    </tr>\n",
       "    <tr>\n",
       "      <th>24</th>\n",
       "      <td>1752</td>\n",
       "      <td>1</td>\n",
       "      <td>-2.983</td>\n",
       "      <td>3.345</td>\n",
       "    </tr>\n",
       "    <tr>\n",
       "      <th>25</th>\n",
       "      <td>1752</td>\n",
       "      <td>2</td>\n",
       "      <td>NaN</td>\n",
       "      <td>NaN</td>\n",
       "    </tr>\n",
       "    <tr>\n",
       "      <th>26</th>\n",
       "      <td>1752</td>\n",
       "      <td>3</td>\n",
       "      <td>0.966</td>\n",
       "      <td>2.370</td>\n",
       "    </tr>\n",
       "    <tr>\n",
       "      <th>27</th>\n",
       "      <td>1752</td>\n",
       "      <td>4</td>\n",
       "      <td>-0.551</td>\n",
       "      <td>1.662</td>\n",
       "    </tr>\n",
       "    <tr>\n",
       "      <th>28</th>\n",
       "      <td>1752</td>\n",
       "      <td>5</td>\n",
       "      <td>NaN</td>\n",
       "      <td>NaN</td>\n",
       "    </tr>\n",
       "    <tr>\n",
       "      <th>29</th>\n",
       "      <td>1752</td>\n",
       "      <td>6</td>\n",
       "      <td>NaN</td>\n",
       "      <td>NaN</td>\n",
       "    </tr>\n",
       "    <tr>\n",
       "      <th>...</th>\n",
       "      <td>...</td>\n",
       "      <td>...</td>\n",
       "      <td>...</td>\n",
       "      <td>...</td>\n",
       "    </tr>\n",
       "    <tr>\n",
       "      <th>3175</th>\n",
       "      <td>2014</td>\n",
       "      <td>8</td>\n",
       "      <td>0.967</td>\n",
       "      <td>0.084</td>\n",
       "    </tr>\n",
       "    <tr>\n",
       "      <th>3176</th>\n",
       "      <td>2014</td>\n",
       "      <td>9</td>\n",
       "      <td>0.976</td>\n",
       "      <td>0.062</td>\n",
       "    </tr>\n",
       "    <tr>\n",
       "      <th>3177</th>\n",
       "      <td>2014</td>\n",
       "      <td>10</td>\n",
       "      <td>1.057</td>\n",
       "      <td>0.072</td>\n",
       "    </tr>\n",
       "    <tr>\n",
       "      <th>3178</th>\n",
       "      <td>2014</td>\n",
       "      <td>11</td>\n",
       "      <td>0.575</td>\n",
       "      <td>0.115</td>\n",
       "    </tr>\n",
       "    <tr>\n",
       "      <th>3179</th>\n",
       "      <td>2014</td>\n",
       "      <td>12</td>\n",
       "      <td>1.193</td>\n",
       "      <td>0.079</td>\n",
       "    </tr>\n",
       "    <tr>\n",
       "      <th>3180</th>\n",
       "      <td>2015</td>\n",
       "      <td>1</td>\n",
       "      <td>1.296</td>\n",
       "      <td>0.103</td>\n",
       "    </tr>\n",
       "    <tr>\n",
       "      <th>3181</th>\n",
       "      <td>2015</td>\n",
       "      <td>2</td>\n",
       "      <td>1.463</td>\n",
       "      <td>0.096</td>\n",
       "    </tr>\n",
       "    <tr>\n",
       "      <th>3182</th>\n",
       "      <td>2015</td>\n",
       "      <td>3</td>\n",
       "      <td>1.428</td>\n",
       "      <td>0.056</td>\n",
       "    </tr>\n",
       "    <tr>\n",
       "      <th>3183</th>\n",
       "      <td>2015</td>\n",
       "      <td>4</td>\n",
       "      <td>0.965</td>\n",
       "      <td>0.074</td>\n",
       "    </tr>\n",
       "    <tr>\n",
       "      <th>3184</th>\n",
       "      <td>2015</td>\n",
       "      <td>5</td>\n",
       "      <td>0.965</td>\n",
       "      <td>0.067</td>\n",
       "    </tr>\n",
       "    <tr>\n",
       "      <th>3185</th>\n",
       "      <td>2015</td>\n",
       "      <td>6</td>\n",
       "      <td>0.977</td>\n",
       "      <td>0.103</td>\n",
       "    </tr>\n",
       "    <tr>\n",
       "      <th>3186</th>\n",
       "      <td>2015</td>\n",
       "      <td>7</td>\n",
       "      <td>0.637</td>\n",
       "      <td>0.093</td>\n",
       "    </tr>\n",
       "    <tr>\n",
       "      <th>3187</th>\n",
       "      <td>2015</td>\n",
       "      <td>8</td>\n",
       "      <td>0.839</td>\n",
       "      <td>0.105</td>\n",
       "    </tr>\n",
       "    <tr>\n",
       "      <th>3188</th>\n",
       "      <td>2015</td>\n",
       "      <td>9</td>\n",
       "      <td>0.869</td>\n",
       "      <td>0.056</td>\n",
       "    </tr>\n",
       "    <tr>\n",
       "      <th>3189</th>\n",
       "      <td>2015</td>\n",
       "      <td>10</td>\n",
       "      <td>1.494</td>\n",
       "      <td>0.063</td>\n",
       "    </tr>\n",
       "    <tr>\n",
       "      <th>3190</th>\n",
       "      <td>2015</td>\n",
       "      <td>11</td>\n",
       "      <td>1.287</td>\n",
       "      <td>0.083</td>\n",
       "    </tr>\n",
       "    <tr>\n",
       "      <th>3191</th>\n",
       "      <td>2015</td>\n",
       "      <td>12</td>\n",
       "      <td>1.789</td>\n",
       "      <td>0.110</td>\n",
       "    </tr>\n",
       "    <tr>\n",
       "      <th>3192</th>\n",
       "      <td>2016</td>\n",
       "      <td>1</td>\n",
       "      <td>1.618</td>\n",
       "      <td>0.058</td>\n",
       "    </tr>\n",
       "    <tr>\n",
       "      <th>3193</th>\n",
       "      <td>2016</td>\n",
       "      <td>2</td>\n",
       "      <td>2.186</td>\n",
       "      <td>0.052</td>\n",
       "    </tr>\n",
       "    <tr>\n",
       "      <th>3194</th>\n",
       "      <td>2016</td>\n",
       "      <td>3</td>\n",
       "      <td>2.137</td>\n",
       "      <td>0.070</td>\n",
       "    </tr>\n",
       "    <tr>\n",
       "      <th>3195</th>\n",
       "      <td>2016</td>\n",
       "      <td>4</td>\n",
       "      <td>1.805</td>\n",
       "      <td>0.077</td>\n",
       "    </tr>\n",
       "    <tr>\n",
       "      <th>3196</th>\n",
       "      <td>2016</td>\n",
       "      <td>5</td>\n",
       "      <td>1.253</td>\n",
       "      <td>0.065</td>\n",
       "    </tr>\n",
       "    <tr>\n",
       "      <th>3197</th>\n",
       "      <td>2016</td>\n",
       "      <td>6</td>\n",
       "      <td>0.846</td>\n",
       "      <td>0.108</td>\n",
       "    </tr>\n",
       "    <tr>\n",
       "      <th>3198</th>\n",
       "      <td>2016</td>\n",
       "      <td>7</td>\n",
       "      <td>0.890</td>\n",
       "      <td>0.073</td>\n",
       "    </tr>\n",
       "    <tr>\n",
       "      <th>3199</th>\n",
       "      <td>2016</td>\n",
       "      <td>8</td>\n",
       "      <td>1.375</td>\n",
       "      <td>0.065</td>\n",
       "    </tr>\n",
       "    <tr>\n",
       "      <th>3200</th>\n",
       "      <td>2016</td>\n",
       "      <td>9</td>\n",
       "      <td>1.008</td>\n",
       "      <td>0.107</td>\n",
       "    </tr>\n",
       "    <tr>\n",
       "      <th>3201</th>\n",
       "      <td>2016</td>\n",
       "      <td>10</td>\n",
       "      <td>1.002</td>\n",
       "      <td>0.066</td>\n",
       "    </tr>\n",
       "    <tr>\n",
       "      <th>3202</th>\n",
       "      <td>2016</td>\n",
       "      <td>11</td>\n",
       "      <td>1.089</td>\n",
       "      <td>0.077</td>\n",
       "    </tr>\n",
       "    <tr>\n",
       "      <th>3203</th>\n",
       "      <td>2016</td>\n",
       "      <td>12</td>\n",
       "      <td>1.261</td>\n",
       "      <td>0.065</td>\n",
       "    </tr>\n",
       "    <tr>\n",
       "      <th>3204</th>\n",
       "      <td>2017</td>\n",
       "      <td>1</td>\n",
       "      <td>1.535</td>\n",
       "      <td>0.066</td>\n",
       "    </tr>\n",
       "  </tbody>\n",
       "</table>\n",
       "<p>3205 rows × 4 columns</p>\n",
       "</div>"
      ],
      "text/plain": [
       "      year  month  anomaly  uncertainty\n",
       "0     1750      1    0.018        3.352\n",
       "1     1750      2    0.087        3.144\n",
       "2     1750      3    0.232        2.321\n",
       "3     1750      4   -0.217        2.106\n",
       "4     1750      5   -0.133        2.257\n",
       "5     1750      6   -0.497        1.869\n",
       "6     1750      7    1.563        1.976\n",
       "7     1750      8    0.431        2.459\n",
       "8     1750      9   -1.246        2.726\n",
       "9     1750     10   -3.053        2.046\n",
       "10    1750     11      NaN          NaN\n",
       "11    1750     12   -1.648        3.247\n",
       "12    1751      1   -0.494        3.339\n",
       "13    1751      2   -2.379        3.168\n",
       "14    1751      3    0.799        2.264\n",
       "15    1751      4   -0.484        1.895\n",
       "16    1751      5      NaN          NaN\n",
       "17    1751      6    0.423        1.827\n",
       "18    1751      7      NaN          NaN\n",
       "19    1751      8    0.106        2.520\n",
       "20    1751      9   -1.945        2.684\n",
       "21    1751     10      NaN          NaN\n",
       "22    1751     11      NaN          NaN\n",
       "23    1751     12      NaN          NaN\n",
       "24    1752      1   -2.983        3.345\n",
       "25    1752      2      NaN          NaN\n",
       "26    1752      3    0.966        2.370\n",
       "27    1752      4   -0.551        1.662\n",
       "28    1752      5      NaN          NaN\n",
       "29    1752      6      NaN          NaN\n",
       "...    ...    ...      ...          ...\n",
       "3175  2014      8    0.967        0.084\n",
       "3176  2014      9    0.976        0.062\n",
       "3177  2014     10    1.057        0.072\n",
       "3178  2014     11    0.575        0.115\n",
       "3179  2014     12    1.193        0.079\n",
       "3180  2015      1    1.296        0.103\n",
       "3181  2015      2    1.463        0.096\n",
       "3182  2015      3    1.428        0.056\n",
       "3183  2015      4    0.965        0.074\n",
       "3184  2015      5    0.965        0.067\n",
       "3185  2015      6    0.977        0.103\n",
       "3186  2015      7    0.637        0.093\n",
       "3187  2015      8    0.839        0.105\n",
       "3188  2015      9    0.869        0.056\n",
       "3189  2015     10    1.494        0.063\n",
       "3190  2015     11    1.287        0.083\n",
       "3191  2015     12    1.789        0.110\n",
       "3192  2016      1    1.618        0.058\n",
       "3193  2016      2    2.186        0.052\n",
       "3194  2016      3    2.137        0.070\n",
       "3195  2016      4    1.805        0.077\n",
       "3196  2016      5    1.253        0.065\n",
       "3197  2016      6    0.846        0.108\n",
       "3198  2016      7    0.890        0.073\n",
       "3199  2016      8    1.375        0.065\n",
       "3200  2016      9    1.008        0.107\n",
       "3201  2016     10    1.002        0.066\n",
       "3202  2016     11    1.089        0.077\n",
       "3203  2016     12    1.261        0.065\n",
       "3204  2017      1    1.535        0.066\n",
       "\n",
       "[3205 rows x 4 columns]"
      ]
     },
     "execution_count": 6,
     "metadata": {},
     "output_type": "execute_result"
    }
   ],
   "source": [
    "FILEPATH = './data/Complete_TAVG_complete.txt'\n",
    "data_raw = read_temp_data(FILEPATH)\n",
    "data_raw"
   ]
  },
  {
   "cell_type": "code",
   "execution_count": null,
   "metadata": {},
   "outputs": [],
   "source": [
    "## use the sample method to look at 10 rows at random"
   ]
  },
  {
   "cell_type": "markdown",
   "metadata": {},
   "source": [
    "***\n",
    "### Objective 1.2 - Exploratory data analysis\n",
    "\n",
    "In this section we work with time series data; hence, we want to make use of the full functionality for time series analysis provided by the `pandas` library. Consequently, we provide `pandas` an appropriate time-based index."
   ]
  },
  {
   "cell_type": "code",
   "execution_count": null,
   "metadata": {},
   "outputs": [],
   "source": [
    "## make a copy of the DataFrame object\n",
    "data_ts = data_raw.copy()"
   ]
  },
  {
   "cell_type": "code",
   "execution_count": null,
   "metadata": {},
   "outputs": [],
   "source": [
    "# index of the DataFrame object"
   ]
  },
  {
   "cell_type": "code",
   "execution_count": null,
   "metadata": {},
   "outputs": [],
   "source": [
    "# data types in the DataFrame object"
   ]
  },
  {
   "cell_type": "markdown",
   "metadata": {},
   "source": [
    ">**Challenge 4:** Generate a time based index by combining the columns `year` and `month`. (Time: 5 Minutes)\n",
    "* Apply the `astype()` method on a `pd.Series` object to convert an `int` into a `string`.\n",
    "* Concatenate (`+`) the columns `year` and `month` (both being `string` objects) and apply `pd.to_datetime()` to generate a `datetime` object.\n",
    "* Chain the `dt` attribute and the `to.period('M')` method together and apply them on the `datetime` object to generate a `PeriodIndex`\n",
    "* Assign the `PeriodIndex` back to the `DataFrame` object `data_ts`."
   ]
  },
  {
   "cell_type": "code",
   "execution_count": null,
   "metadata": {},
   "outputs": [],
   "source": [
    "## your code here ..."
   ]
  },
  {
   "cell_type": "markdown",
   "metadata": {},
   "source": [
    "* For the sake of reproducibility we refactor our code and write a function called `monthly_index`, with only one input argument, a `DataFrame` object. _Note that we have already written the function for you._ \n",
    "\n",
    "      %load ./src/_solutions/time_series_analysis_f02.py\n",
    "      \n",
    "_Uncomment the code cell below and execute the cell once to import the file and once more to actually run the code._ \n"
   ]
  },
  {
   "cell_type": "code",
   "execution_count": null,
   "metadata": {},
   "outputs": [],
   "source": [
    "# %load ./src/_solutions/time_series_analysis_f02.py"
   ]
  },
  {
   "cell_type": "markdown",
   "metadata": {},
   "source": [
    "* Apply the `monthly_index()` function to create a `DataFrame` with a monthly `PeriodIndex` and store it into a variable called `data_monthly`."
   ]
  },
  {
   "cell_type": "code",
   "execution_count": null,
   "metadata": {},
   "outputs": [],
   "source": [
    "data_monthly = monthly_index(data_raw)\n",
    "data_monthly.head()"
   ]
  },
  {
   "cell_type": "markdown",
   "metadata": {},
   "source": [
    "> **Challenge 5**: Print the descriptive statistics of the `anomaly` column. (Time: 2 Minutes)\n",
    "* count\n",
    "* mean\n",
    "* standard deviation\n",
    "* min\n",
    "* 25, 50, and 75%-quantile\n",
    "* max  \n",
    "\n",
    "_Hint: Recall the `describe()` method_\n",
    "\n"
   ]
  },
  {
   "cell_type": "code",
   "execution_count": null,
   "metadata": {},
   "outputs": [],
   "source": [
    "##  your code here ..."
   ]
  },
  {
   "cell_type": "markdown",
   "metadata": {},
   "source": [
    "> **Challenge 6**: Plotting of the distribution of the `anomaly` column. (Time: 2 Minutes)\n",
    "* Plot the distribution of `anomaly` using the `plot.hist()` method (Feel free to play around with the `bins` argument).\n",
    "* Plot the distribution of `anomaly` for the periods 1850-1900 and 1950-2000 in one plot (*Hint: Recall the `loc` method*)"
   ]
  },
  {
   "cell_type": "code",
   "execution_count": null,
   "metadata": {},
   "outputs": [],
   "source": [
    "## your code here ..."
   ]
  },
  {
   "cell_type": "markdown",
   "metadata": {},
   "source": [
    "***\n",
    "## Objective 2 -  Construct an informative time series plot for the global temperature anomaly"
   ]
  },
  {
   "cell_type": "markdown",
   "metadata": {},
   "source": [
    "The `pandas` library makes plotting very easy. Calling the `plot()` method on a `pd.Series` or `pd.DataFrame` object will create a plot. Note that `pandas` relies on the extremely powerful `matplotlib` library. Refer to the `matplotlib` [gallery](https://matplotlib.org/gallery/index.html) of the [online documentation](https://matplotlib.org/) to get an idea what `matplotlib` can do for you.\n",
    "\n"
   ]
  },
  {
   "cell_type": "markdown",
   "metadata": {},
   "source": [
    "***\n",
    "### Objective 2.1 -  Construct a simple time series plot of the global temperature anomaly"
   ]
  },
  {
   "cell_type": "markdown",
   "metadata": {},
   "source": [
    "> **Challenge 7**: Plot a time series plot of the `anomaly` column. (Time: 3 Minutes)\n",
    "\n",
    "_Hint: Use the `plot()` method_"
   ]
  },
  {
   "cell_type": "code",
   "execution_count": null,
   "metadata": {},
   "outputs": [],
   "source": [
    "## your code here ... "
   ]
  },
  {
   "cell_type": "markdown",
   "metadata": {},
   "source": [
    "***\n",
    "### Objective 2.2 -  Improve the simple time series plot by computing a 10-year running mean for the `anomaly` and the `uncertainty` columns."
   ]
  },
  {
   "cell_type": "markdown",
   "metadata": {},
   "source": [
    "> **Challenge 8**: Compute a 10-year running mean for the `anomaly` and the `uncertainty` columns and plot them.\n",
    "We compute a running mean by combining the `rolling()`  and the `mean()` method.   (Time: 10 minutes)\n",
    "* The `rolling()` method takes several arguments. We need to find an appropriate value for the `window` argument. Further we set `center=True`. \n",
    "* Once we have called the `rolling()` method we chain it with the `mean()` method to compute the 10-year running mean. _Hint: Use the `plot()` method to verify the computation._\n",
    "* Repeat the procedure for the `anomaly` and the `uncertainty` columns and add the two columns to the dataframe, denoted as `10-year-anomaly` and `10-year-uncertainty`. \n",
    "* Plot the `anomaly`, the `10-year-anomaly` as well as the `\"10-year-uncertainty\"` within one single plot. _Hint: Note that the `uncertainty` corresponds to the absolute value of deviation. Compute `10-year-anomaly` $+$ `10-year-uncertainty` and `10-year-anomaly` $-$ `10-year-uncertainty` to get the upper and lower bounds of uncertainty._ "
   ]
  },
  {
   "cell_type": "code",
   "execution_count": null,
   "metadata": {},
   "outputs": [],
   "source": [
    "## your code here ..."
   ]
  },
  {
   "cell_type": "markdown",
   "metadata": {},
   "source": [
    "* For the sake of reproducibility we refactor our code and write a function called `plot_anomalies`, with two input argument, a `DataFrame` object and a `string`, corresponding to the title of the plot.\n",
    "\n",
    "Note that we have already written the function for you. Moreover, we added some boilerplate code the control the figure aesthetics such as `color`, `linewidth`, `linestyle`, fillings (`fill_between`) and opacity (`alpha`); further we added a `title` and axis labels. \n",
    "\n",
    "> **Challenge 9:** Read the code line for line and try to figure out what each line of code is doing. (Time: 5 minutes)   \n",
    "*The code is stored in the folder `./src/_solutions/` with the filename `time_series_analysis_f03.py`. We use the magic function `%load` to import the Python file.\n",
    "\n",
    "    %load ./src/_solutions/time_series_analysis_f03.py\n",
    "\n",
    "*Uncomment the code cell below.*"
   ]
  },
  {
   "cell_type": "code",
   "execution_count": null,
   "metadata": {},
   "outputs": [],
   "source": [
    "# %load ./src/_solutions/time_series_analysis_f03.py"
   ]
  },
  {
   "cell_type": "markdown",
   "metadata": {},
   "source": [
    "* Apply the `plot_anomalies()` function to create a figure."
   ]
  },
  {
   "cell_type": "code",
   "execution_count": null,
   "metadata": {},
   "outputs": [],
   "source": [
    "plot_anomalies(data_monthly, title=\"Global temperature anomaly relative to the period 1951-1980\");"
   ]
  },
  {
   "cell_type": "markdown",
   "metadata": {},
   "source": [
    "***\n",
    "## Objective 3 - Write a function to plot temperature anomalies for any given country/region of the database"
   ]
  },
  {
   "cell_type": "markdown",
   "metadata": {},
   "source": [
    "In the previous sections we sequentially built up code segments that finally produce an informative time series plot. In this section we refactor our code to become even more generic. We write a function that produces such a time series plot for any given region or country name.\n",
    "\n",
    "Again we build up our code base sequentially; however this time, we make use of the functions `read_temp_data()`, `monthly_index()` and `plot_anomalies()`. Hence, reducing the lines of code to write and in addition, our code becomes more readable."
   ]
  },
  {
   "cell_type": "markdown",
   "metadata": {},
   "source": [
    "We follow the procedure outlined below\n",
    "1. Locate the data files (find the correct url) of interest in the open database of [Earth Berkeley](http://berkeleyearth.org/).\n",
    "* Load temperature data from the internet and preprocess it using our `read_temp_data()` function.\n",
    "* Assign a time based index to the data set using our `monthly_index()` function.\n",
    "* Plot the data of interest using our `plot_anomalies()` function."
   ]
  },
  {
   "cell_type": "markdown",
   "metadata": {},
   "source": [
    "***\n",
    "### Objective 3.1 - Locate the data files (find the correct url) of interest in the open database of [Earth Berkeley](http://berkeleyearth.org/)"
   ]
  },
  {
   "cell_type": "markdown",
   "metadata": {},
   "source": [
    "Follow the link below and you see that the temperature data set for each particular country/region can be accessed via an unique url:\n",
    "\n",
    "http://berkeleyearth.lbl.gov/auto/Regional/TAVG/Text/\n",
    "\n",
    "Note that Jupyter notebooks allow us to embed an `Iframe` into a notebook cell (see below)\n"
   ]
  },
  {
   "cell_type": "code",
   "execution_count": null,
   "metadata": {},
   "outputs": [],
   "source": [
    "from IPython.display import IFrame\n",
    "IFrame(\"http://berkeleyearth.lbl.gov/auto/Regional/TAVG/Text/\", width=\"100%\", height=400)"
   ]
  },
  {
   "cell_type": "markdown",
   "metadata": {},
   "source": [
    "By investigating the structure of the database we realize that each particular data set can be assessed via an unique url, which may be decomposed into three parts:\n",
    "\n",
    "Part 1 - the base url: `http://berkeleyearth.lbl.gov/auto/Regional/TAVG/Text/...`   \n",
    "Part 2 -  the country/region name: `...afghanistan...`, `...africa...` or `...angola...`, among others.   \n",
    "Part 3 -  the url suffix: `...-TAVG-Trend.txt`   \n",
    "\n",
    "For example, the url for the temperature data set of Germany is \n",
    "\n",
    "`BASE_URL` + `COUNTRY` + `SUFFIX` = http://berkeleyearth.lbl.gov/auto/Regional/TAVG/Text/germany-TAVG-Trend.txt"
   ]
  },
  {
   "cell_type": "markdown",
   "metadata": {},
   "source": [
    "> **Challenge 10**: Wrap this idea into a python function called `data_url()`, which takes one input argument, the name of the country/region. (Time: 5 minutes)    \n",
    "_Hint: Concatenate `string` objects using the `+` sign_"
   ]
  },
  {
   "cell_type": "code",
   "execution_count": null,
   "metadata": {},
   "outputs": [],
   "source": [
    "## your code here ..."
   ]
  },
  {
   "cell_type": "markdown",
   "metadata": {},
   "source": [
    "* What is the url for the temperature data set for Germany?    \n",
    "Use the function `data_url()` to build the url for accessing temperature data for Germany. "
   ]
  },
  {
   "cell_type": "code",
   "execution_count": null,
   "metadata": {},
   "outputs": [],
   "source": [
    "data_url(\"germany\")"
   ]
  },
  {
   "cell_type": "markdown",
   "metadata": {},
   "source": [
    "***\n",
    "### Objective 3.1, 3.2 and 3.3 - Load temperature data, assign a time based index and plot the data of interest"
   ]
  },
  {
   "cell_type": "markdown",
   "metadata": {},
   "source": [
    "Owing to the fact that we consequently refactored our code into python functions, these tasks become fairly easy. We just have to call one function after the other.    \n",
    "\n",
    "> **Challenge 11**: Apply `data_url()`, followed by `read_temp_data()`, `monthly_index()` and `plot_anomalies()` to plot the temperature anomaly for Germany from 1750 to present. (Time: 5 minutes)\n",
    "\n",
    "*Note that the `pd.read_csv()` function, built into our `read_temp_data()` function, also accepts an url as input argument and that the  `plot_anomalies()` function awaits two arguments, a `DataFrame` object and a `string` object as `title`.*"
   ]
  },
  {
   "cell_type": "code",
   "execution_count": null,
   "metadata": {},
   "outputs": [],
   "source": [
    "## your code here ..."
   ]
  },
  {
   "cell_type": "markdown",
   "metadata": {},
   "source": [
    "* Once again, for the sake of reproducibility we refactor our code and write a function called `plot_country_anomalies`, with one input argument, a `string` object referring to a particular country/region of interest. Note that we have already written the function for you (`time_series_analysis_f04.py`). \n",
    "\n",
    "      %load ./src/_solutions/time_series_analysis_f04.py\n",
    "    \n",
    "_Uncomment the code cell below._"
   ]
  },
  {
   "cell_type": "code",
   "execution_count": null,
   "metadata": {},
   "outputs": [],
   "source": [
    "# %load ./src/_solutions/time_series_analysis_f04.py"
   ]
  },
  {
   "cell_type": "markdown",
   "metadata": {},
   "source": [
    "> **Challenge 12**: Use the function `plot_country_anomalies()` to plot the temperature anomalies for \n",
    "* `germany`\n",
    "* `australia` and\n",
    "* `china`   \n",
    "(Time: 6 Minutes)\n"
   ]
  },
  {
   "cell_type": "code",
   "execution_count": null,
   "metadata": {},
   "outputs": [],
   "source": [
    "## your code here ..."
   ]
  },
  {
   "cell_type": "markdown",
   "metadata": {},
   "source": [
    "***\n",
    "\n",
    "## Objective 4 - Save a time series plot to disk"
   ]
  },
  {
   "cell_type": "markdown",
   "metadata": {},
   "source": [
    "Finally, we are done and want to save one of our plots to disk. Therefore we call the `plt.savefig()` function.\n",
    "\n",
    "> **Challenge 13**: Create a plot of a country of your choice. Use the function `plt.savefig()` to save the plot to disk. Save the plot as a `.png` file with a resolution of 300 dpi in the folder `./figures/`. (Time: 5 Minutes)\n",
    "\n"
   ]
  },
  {
   "cell_type": "code",
   "execution_count": null,
   "metadata": {},
   "outputs": [],
   "source": [
    "# your code here ..."
   ]
  },
  {
   "cell_type": "markdown",
   "metadata": {},
   "source": [
    "***"
   ]
  }
 ],
 "metadata": {
  "anaconda-cloud": {},
  "hide_input": false,
  "kernelspec": {
   "display_name": "Python 3",
   "language": "python",
   "name": "python3"
  },
  "language_info": {
   "codemirror_mode": {
    "name": "ipython",
    "version": 3
   },
   "file_extension": ".py",
   "mimetype": "text/x-python",
   "name": "python",
   "nbconvert_exporter": "python",
   "pygments_lexer": "ipython3",
   "version": "3.6.5"
  }
 },
 "nbformat": 4,
 "nbformat_minor": 1
}
