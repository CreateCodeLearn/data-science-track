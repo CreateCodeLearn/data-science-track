{
 "cells": [
  {
   "cell_type": "markdown",
   "metadata": {
    "slideshow": {
     "slide_type": "slide"
    }
   },
   "source": [
    "# Predictive Modeling and Machine Learning"
   ]
  },
  {
   "cell_type": "markdown",
   "metadata": {
    "slideshow": {
     "slide_type": "subslide"
    }
   },
   "source": [
    "* What is predictive modeling?\n",
    "* What is machine learning?\n",
    "* The three domains in machine learning\n",
    "* The machine learning model development process"
   ]
  },
  {
   "cell_type": "markdown",
   "metadata": {
    "slideshow": {
     "slide_type": "slide"
    }
   },
   "source": [
    "[__Predictive modeling__](https://en.wikipedia.org/wiki/Predictive_modelling), sometimes referred to as __predictive analytics__, uses __statistics to predict outcomes__. Depending on definitional boundaries, predictive modeling is synonymous with, or largely overlapping with, the field of [__machine learning__](https://en.wikipedia.org/wiki/Machine_learning)."
   ]
  },
  {
   "cell_type": "markdown",
   "metadata": {
    "slideshow": {
     "slide_type": "fragment"
    }
   },
   "source": [
    "$\\text{Predictive Modeling} \\approx \\text{Machine Learning}$\n",
    "\n",
    "Source: [Wikipedia](https://en.wikipedia.org/wiki/Predictive_modelling)"
   ]
  },
  {
   "cell_type": "markdown",
   "metadata": {
    "slideshow": {
     "slide_type": "slide"
    }
   },
   "source": [
    "## The three domains in machine learning\n",
    "\n",
    "\n",
    "<img src=\"./_img/MachineLearningDiagram.png\" style=\"height: 700px;\">\n",
    "\n",
    "\n",
    "Source: [NormShield](https://www.normshield.com/machine-learning-in-cyber-security-domain-1-fundamentals/)"
   ]
  },
  {
   "cell_type": "markdown",
   "metadata": {
    "slideshow": {
     "slide_type": "slide"
    }
   },
   "source": [
    "## Supervised Learning\n",
    "\n",
    "\n",
    "Machine learning algorithms are learning a target function, $f$, that best maps input variables, $\\bf X$, to an output variable, $\\bf y$.\n",
    "\n",
    "$$\\bf y = f( \\bf{X}, \\Theta)$$\n",
    "\n",
    "Once we know the function we are able to make predictions in the future for $\\bf y$ given new examples of input variables, $\\bf X$.\n",
    "\n",
    "\n"
   ]
  },
  {
   "cell_type": "markdown",
   "metadata": {
    "slideshow": {
     "slide_type": "subslide"
    }
   },
   "source": [
    "### Regression vs. Classification\n",
    "\n",
    "A regression algorithm predicts a **continuous output** whereas a classification algorithm predicts a **discrete output**. \n",
    "\n",
    "<img src=\"./_img/reg_vs_class.png\" style=\"height: 600px;\">"
   ]
  },
  {
   "cell_type": "markdown",
   "metadata": {
    "slideshow": {
     "slide_type": "slide"
    }
   },
   "source": [
    "## The machine learning model development process\n",
    "\n",
    "<img src=\"./_img/ML_scheme.png\" style=\"height: 800px;\">"
   ]
  }
 ],
 "metadata": {
  "celltoolbar": "Slideshow",
  "kernelspec": {
   "display_name": "Python 3",
   "language": "python",
   "name": "python3"
  },
  "language_info": {
   "codemirror_mode": {
    "name": "ipython",
    "version": 3
   },
   "file_extension": ".py",
   "mimetype": "text/x-python",
   "name": "python",
   "nbconvert_exporter": "python",
   "pygments_lexer": "ipython3",
   "version": "3.6.5"
  },
  "livereveal": {
   "scroll": true,
   "start_slideshow_at": "selected"
  }
 },
 "nbformat": 4,
 "nbformat_minor": 2
}
