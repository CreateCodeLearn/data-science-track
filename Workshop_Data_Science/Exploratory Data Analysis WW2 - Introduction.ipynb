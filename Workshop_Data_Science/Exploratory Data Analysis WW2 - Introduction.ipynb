{
 "cells": [
  {
   "cell_type": "markdown",
   "metadata": {},
   "source": [
    "# Exploratory Data Analysis in Action"
   ]
  },
  {
   "cell_type": "markdown",
   "metadata": {},
   "source": [
    "In the subsequent notebooks we apply a variety of EDA techniques on a real world data set.\n",
    "\n",
    "The data set [__Aerial Bombing Operations in World War II__](https://www.kaggle.com/usaf/world-war-ii) is avaiable on [Kaggle](https://www.kaggle.com/).\n",
    "\n",
    "\n",
    "\n",
    "It was already downloaded for you and is found in the `datasets` folder:\n",
    "\n",
    "    ./data/operations.csv\n",
    "\n",
    "<img src=\"./_img/usaaf-b17-2.png\"> \n",
    "\n",
    "[B-17 Flying Fortress](https://en.wikipedia.org/wiki/Boeing_B-17_Flying_Fortress) bombers over Europe in World War II ([USAAF](https://en.wikipedia.org/wiki/USAAF) photo); Source: [Columbia University](http://www.columbia.edu/cu/computinghistory/almanac.html) \n",
    "\n",
    "\n",
    "\n",
    "\n",
    "\n",
    "### Content\n",
    "\n",
    "This dataset consists of digitized paper mission reports from World War II. Each record includes the date, conflict, geographic location, and other data elements to form a live-action sequence of air warfare from 1939 to 1945. The records include U.S. and Royal Air Force data, in addition to some Australian, New Zealand and South African air force missions.\n",
    "\n",
    "### Acknowledgments\n",
    "\n",
    "Lt Col Jenns Robertson of the US Air Force developed the [Theater History of Operations Reports (THOR)](http://www.au.af.mil/au/afri/thor/) and posted them online after receiving Department of Defense approval.\n"
   ]
  },
  {
   "cell_type": "markdown",
   "metadata": {},
   "source": [
    "## Table of content\n",
    "\n",
    "\n",
    "* ### [Loading and exploring the data set](Exploratory Data Analysis WW2 - Loading and exploring the data set.ipynb)\n",
    "\n",
    "* ### [Data preparation](Exploratory Data Analysis WW2 - Data preparation.ipynb)\n",
    "\n",
    "* ### [Exploratory Data Analysis in Action](Exploratory Data Analysis WW2 - Number of attacks.ipynb)"
   ]
  }
 ],
 "metadata": {
  "hide_input": false,
  "kernelspec": {
   "display_name": "Python 3",
   "language": "python",
   "name": "python3"
  },
  "language_info": {
   "codemirror_mode": {
    "name": "ipython",
    "version": 3
   },
   "file_extension": ".py",
   "mimetype": "text/x-python",
   "name": "python",
   "nbconvert_exporter": "python",
   "pygments_lexer": "ipython3",
   "version": "3.6.5"
  }
 },
 "nbformat": 4,
 "nbformat_minor": 2
}
